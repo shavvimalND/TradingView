{
 "cells": [
  {
   "cell_type": "code",
   "execution_count": 1,
   "metadata": {},
   "outputs": [],
   "source": [
    "from tradingview_ta import TA_Handler, Interval, Exchange"
   ]
  },
  {
   "cell_type": "code",
   "execution_count": 12,
   "metadata": {},
   "outputs": [
    {
     "name": "stdout",
     "output_type": "stream",
     "text": [
      "97.4425\n",
      "2022-09-28 12:26:26.535400\n"
     ]
    }
   ],
   "source": [
    "ZQU2022 = TA_Handler(\n",
    "    symbol=\"ZQU2022\",\n",
    "    screener=\"america\",\n",
    "    exchange=\"CBOT\",\n",
    "    interval=Interval.INTERVAL_1_MINUTE,\n",
    ")\n",
    "print(ZQU2022.get_analysis().indicators['close'])\n",
    "print(ZQU2022.get_analysis().time)"
   ]
  },
  {
   "cell_type": "code",
   "execution_count": null,
   "metadata": {},
   "outputs": [],
   "source": []
  }
 ],
 "metadata": {
  "kernelspec": {
   "display_name": "Python 3.9.13 ('TradingView')",
   "language": "python",
   "name": "python3"
  },
  "language_info": {
   "codemirror_mode": {
    "name": "ipython",
    "version": 3
   },
   "file_extension": ".py",
   "mimetype": "text/x-python",
   "name": "python",
   "nbconvert_exporter": "python",
   "pygments_lexer": "ipython3",
   "version": "3.9.13"
  },
  "orig_nbformat": 4,
  "vscode": {
   "interpreter": {
    "hash": "6c8f19ff755e6b8cd61208a4676867c64cd99be5e7328882d33531849d35edd5"
   }
  }
 },
 "nbformat": 4,
 "nbformat_minor": 2
}
